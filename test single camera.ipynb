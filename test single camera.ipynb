{
 "cells": [
  {
   "cell_type": "code",
   "execution_count": 1,
   "id": "7928e626",
   "metadata": {},
   "outputs": [],
   "source": [
    "import cv2\n",
    "import threading\n",
    "import numpy as np\n",
    "from metavision_core.event_io import EventsIterator\n",
    "from metavision_sdk_core import PeriodicFrameGenerationAlgorithm\n",
    "from metavision_sdk_ui import EventLoop, BaseWindow, Window, UIAction, UIKeyEvent\n",
    "from pylablib.devices import uc480  # uc480 DLLs needed for Thorlabs camera\n",
    "import matplotlib.pyplot as plt\n",
    "import argparse\n",
    "import h5py\n",
    "import time"
   ]
  },
  {
   "cell_type": "code",
   "execution_count": 5,
   "id": "6a922441",
   "metadata": {},
   "outputs": [],
   "source": [
    "import os\n",
    "import threading\n",
    "import time\n",
    "\n",
    "class ThorlabsCam:\n",
    "    def __init__(self):\n",
    "        notebook_dir = os.getcwd()\n",
    "        self.save_folder = os.path.join(notebook_dir, \"frames\")\n",
    "        if not os.path.exists(self.save_folder):\n",
    "            os.makedirs(self.save_folder)\n",
    "\n",
    "        self.cam = uc480.UC480Camera()\n",
    "        self.is_acquiring = False\n",
    "        self.frame_count = 0\n",
    "        self.save_thread = None\n",
    "        \n",
    "    def start_saving(self):\n",
    "        self.save_thread = threading.Thread(target=self.save_frames)\n",
    "        self.save_thread.start()\n",
    "        print(\"Thorlabs frame saving started\")\n",
    "\n",
    "    def start_acquisition(self):\n",
    "        self.is_acquiring = True\n",
    "        self.cam.start_acquisition()\n",
    "        print(\"Thorlabs acquisition started\")\n",
    "\n",
    "    def stop_acquisition(self):\n",
    "        self.is_acquiring = False\n",
    "        self.cam.stop_acquisition()\n",
    "        self.cam.close()\n",
    "        print(\"Thorlabs acquisition stopped\")\n",
    "\n",
    "    def save_frames(self):\n",
    "        self.frames_list=[]\n",
    "        while self.is_acquiring:\n",
    "            frame = self.cam.snap()\n",
    "            if frame is not None:\n",
    "                self.frames_list.append(frame)\n",
    "                #filename = os.path.join(self.save_folder, f\"frame_{self.frame_count}.png\")\n",
    "                #cv2.imwrite(filename, frame)\n",
    "                self.frame_count += 1\n",
    "                #time.sleep(1 / 15)  # Delay to achieve 15 FPS\n",
    "            else:\n",
    "                print(\"Failed to capture frame\")\n",
    "\n",
    "    def stop_saving(self):\n",
    "        self.is_acquiring = False\n",
    "        if self.save_thread:\n",
    "            self.save_thread.join()\n",
    "        print(\"Thorlabs frame saving stopped\")"
   ]
  },
  {
   "cell_type": "code",
   "execution_count": 4,
   "id": "4792fe28",
   "metadata": {},
   "outputs": [
    {
     "name": "stderr",
     "output_type": "stream",
     "text": [
      "Exception in thread Thread-5:\n",
      "Traceback (most recent call last):\n",
      "  File \"C:\\Users\\INESC\\anaconda3\\envs\\python38\\lib\\threading.py\", line 932, in _bootstrap_inner\n",
      "    self.run()\n",
      "  File \"C:\\Users\\INESC\\anaconda3\\envs\\python38\\lib\\threading.py\", line 870, in run\n"
     ]
    },
    {
     "name": "stdout",
     "output_type": "stream",
     "text": [
      "Thorlabs frame saving started\n"
     ]
    },
    {
     "name": "stderr",
     "output_type": "stream",
     "text": [
      "    self._target(*self._args, **self._kwargs)\n",
      "  File \"C:\\Users\\INESC\\AppData\\Local\\Temp\\ipykernel_9928\\3991412930.py\", line 25, in start_acquisition\n",
      "AttributeError: 'UC480Camera' object has no attribute 'start_video'\n"
     ]
    },
    {
     "ename": "AttributeError",
     "evalue": "'UC480Camera' object has no attribute 'stop_video'",
     "output_type": "error",
     "traceback": [
      "\u001b[1;31m---------------------------------------------------------------------------\u001b[0m",
      "\u001b[1;31mAttributeError\u001b[0m                            Traceback (most recent call last)",
      "\u001b[1;32m~\\AppData\\Local\\Temp\\ipykernel_9928\\1047367269.py\u001b[0m in \u001b[0;36m<module>\u001b[1;34m\u001b[0m\n\u001b[0;32m     23\u001b[0m     \u001b[0mmulticam\u001b[0m \u001b[1;33m=\u001b[0m \u001b[0mthread_cam\u001b[0m\u001b[1;33m(\u001b[0m\u001b[1;33m)\u001b[0m\u001b[1;33m\u001b[0m\u001b[1;33m\u001b[0m\u001b[0m\n\u001b[0;32m     24\u001b[0m     \u001b[0mmulticam\u001b[0m\u001b[1;33m.\u001b[0m\u001b[0mstart\u001b[0m\u001b[1;33m(\u001b[0m\u001b[1;33m)\u001b[0m\u001b[1;33m\u001b[0m\u001b[1;33m\u001b[0m\u001b[0m\n\u001b[1;32m---> 25\u001b[1;33m     \u001b[0mmulticam\u001b[0m\u001b[1;33m.\u001b[0m\u001b[0mwait_for_timeout\u001b[0m\u001b[1;33m(\u001b[0m\u001b[1;36m10\u001b[0m\u001b[1;33m)\u001b[0m\u001b[1;33m\u001b[0m\u001b[1;33m\u001b[0m\u001b[0m\n\u001b[0m\u001b[0;32m     26\u001b[0m     \u001b[0mprint\u001b[0m\u001b[1;33m(\u001b[0m\u001b[1;34m'time used to capture all the frames'\u001b[0m\u001b[1;33m,\u001b[0m \u001b[0mmulticam\u001b[0m\u001b[1;33m.\u001b[0m\u001b[0mend_time\u001b[0m \u001b[1;33m-\u001b[0m \u001b[0mmulticam\u001b[0m\u001b[1;33m.\u001b[0m\u001b[0mstart_time\u001b[0m\u001b[1;33m)\u001b[0m\u001b[1;33m\u001b[0m\u001b[1;33m\u001b[0m\u001b[0m\n\u001b[0;32m     27\u001b[0m     \u001b[0mprint\u001b[0m\u001b[1;33m(\u001b[0m\u001b[1;34m'number of frames in that time'\u001b[0m\u001b[1;33m,\u001b[0m \u001b[0mmulticam\u001b[0m\u001b[1;33m.\u001b[0m\u001b[0mthorlabs_cam\u001b[0m\u001b[1;33m.\u001b[0m\u001b[0mframe_count\u001b[0m\u001b[1;33m)\u001b[0m\u001b[1;33m\u001b[0m\u001b[1;33m\u001b[0m\u001b[0m\n",
      "\u001b[1;32m~\\AppData\\Local\\Temp\\ipykernel_9928\\1047367269.py\u001b[0m in \u001b[0;36mwait_for_timeout\u001b[1;34m(self, timeout)\u001b[0m\n\u001b[0;32m     17\u001b[0m     \u001b[1;32mdef\u001b[0m \u001b[0mwait_for_timeout\u001b[0m\u001b[1;33m(\u001b[0m\u001b[0mself\u001b[0m\u001b[1;33m,\u001b[0m \u001b[0mtimeout\u001b[0m\u001b[1;33m)\u001b[0m\u001b[1;33m:\u001b[0m\u001b[1;33m\u001b[0m\u001b[1;33m\u001b[0m\u001b[0m\n\u001b[0;32m     18\u001b[0m         \u001b[0mtime\u001b[0m\u001b[1;33m.\u001b[0m\u001b[0msleep\u001b[0m\u001b[1;33m(\u001b[0m\u001b[0mtimeout\u001b[0m\u001b[1;33m)\u001b[0m\u001b[1;33m\u001b[0m\u001b[1;33m\u001b[0m\u001b[0m\n\u001b[1;32m---> 19\u001b[1;33m         \u001b[0mself\u001b[0m\u001b[1;33m.\u001b[0m\u001b[0mstop\u001b[0m\u001b[1;33m(\u001b[0m\u001b[1;33m)\u001b[0m\u001b[1;33m\u001b[0m\u001b[1;33m\u001b[0m\u001b[0m\n\u001b[0m\u001b[0;32m     20\u001b[0m \u001b[1;33m\u001b[0m\u001b[0m\n\u001b[0;32m     21\u001b[0m \u001b[1;31m# Example usage:\u001b[0m\u001b[1;33m\u001b[0m\u001b[1;33m\u001b[0m\u001b[1;33m\u001b[0m\u001b[0m\n",
      "\u001b[1;32m~\\AppData\\Local\\Temp\\ipykernel_9928\\1047367269.py\u001b[0m in \u001b[0;36mstop\u001b[1;34m(self)\u001b[0m\n\u001b[0;32m     11\u001b[0m \u001b[1;33m\u001b[0m\u001b[0m\n\u001b[0;32m     12\u001b[0m     \u001b[1;32mdef\u001b[0m \u001b[0mstop\u001b[0m\u001b[1;33m(\u001b[0m\u001b[0mself\u001b[0m\u001b[1;33m)\u001b[0m\u001b[1;33m:\u001b[0m\u001b[1;33m\u001b[0m\u001b[1;33m\u001b[0m\u001b[0m\n\u001b[1;32m---> 13\u001b[1;33m         \u001b[0mself\u001b[0m\u001b[1;33m.\u001b[0m\u001b[0mthorlabs_cam\u001b[0m\u001b[1;33m.\u001b[0m\u001b[0mstop_acquisition\u001b[0m\u001b[1;33m(\u001b[0m\u001b[1;33m)\u001b[0m\u001b[1;33m\u001b[0m\u001b[1;33m\u001b[0m\u001b[0m\n\u001b[0m\u001b[0;32m     14\u001b[0m         \u001b[0mself\u001b[0m\u001b[1;33m.\u001b[0m\u001b[0mend_time\u001b[0m \u001b[1;33m=\u001b[0m \u001b[0mtime\u001b[0m\u001b[1;33m.\u001b[0m\u001b[0mtime\u001b[0m\u001b[1;33m(\u001b[0m\u001b[1;33m)\u001b[0m\u001b[1;33m\u001b[0m\u001b[1;33m\u001b[0m\u001b[0m\n\u001b[0;32m     15\u001b[0m         \u001b[0mself\u001b[0m\u001b[1;33m.\u001b[0m\u001b[0mthorlabs_cam\u001b[0m\u001b[1;33m.\u001b[0m\u001b[0mstop_saving\u001b[0m\u001b[1;33m(\u001b[0m\u001b[1;33m)\u001b[0m\u001b[1;33m\u001b[0m\u001b[1;33m\u001b[0m\u001b[0m\n",
      "\u001b[1;32m~\\AppData\\Local\\Temp\\ipykernel_9928\\3991412930.py\u001b[0m in \u001b[0;36mstop_acquisition\u001b[1;34m(self)\u001b[0m\n\u001b[0;32m     28\u001b[0m     \u001b[1;32mdef\u001b[0m \u001b[0mstop_acquisition\u001b[0m\u001b[1;33m(\u001b[0m\u001b[0mself\u001b[0m\u001b[1;33m)\u001b[0m\u001b[1;33m:\u001b[0m\u001b[1;33m\u001b[0m\u001b[1;33m\u001b[0m\u001b[0m\n\u001b[0;32m     29\u001b[0m         \u001b[0mself\u001b[0m\u001b[1;33m.\u001b[0m\u001b[0mis_acquiring\u001b[0m \u001b[1;33m=\u001b[0m \u001b[1;32mFalse\u001b[0m\u001b[1;33m\u001b[0m\u001b[1;33m\u001b[0m\u001b[0m\n\u001b[1;32m---> 30\u001b[1;33m         \u001b[0mself\u001b[0m\u001b[1;33m.\u001b[0m\u001b[0mcam\u001b[0m\u001b[1;33m.\u001b[0m\u001b[0mstop_video\u001b[0m\u001b[1;33m(\u001b[0m\u001b[1;33m)\u001b[0m\u001b[1;33m\u001b[0m\u001b[1;33m\u001b[0m\u001b[0m\n\u001b[0m\u001b[0;32m     31\u001b[0m         \u001b[0mself\u001b[0m\u001b[1;33m.\u001b[0m\u001b[0mcam\u001b[0m\u001b[1;33m.\u001b[0m\u001b[0mclose\u001b[0m\u001b[1;33m(\u001b[0m\u001b[1;33m)\u001b[0m\u001b[1;33m\u001b[0m\u001b[1;33m\u001b[0m\u001b[0m\n\u001b[0;32m     32\u001b[0m         \u001b[0mprint\u001b[0m\u001b[1;33m(\u001b[0m\u001b[1;34m\"Thorlabs acquisition stopped\"\u001b[0m\u001b[1;33m)\u001b[0m\u001b[1;33m\u001b[0m\u001b[1;33m\u001b[0m\u001b[0m\n",
      "\u001b[1;31mAttributeError\u001b[0m: 'UC480Camera' object has no attribute 'stop_video'"
     ]
    }
   ],
   "source": [
    "class thread_cam:\n",
    "    def __init__(self):\n",
    "        self.thorlabs_cam = ThorlabsCam()\n",
    "        self.thorlabs_thread = None\n",
    "\n",
    "    def start(self):\n",
    "        self.thorlabs_thread = threading.Thread(target=self.thorlabs_cam.start_acquisition)\n",
    "        self.thorlabs_thread.start()\n",
    "        self.thorlabs_cam.start_saving()\n",
    "        self.start_time = time.time()  # Start saving frames from Thorlabs camera\n",
    "\n",
    "    def stop(self):   \n",
    "        self.thorlabs_cam.stop_acquisition()\n",
    "        self.end_time = time.time()\n",
    "        self.thorlabs_cam.stop_saving()\n",
    "\n",
    "    def wait_for_timeout(self, timeout):\n",
    "        time.sleep(timeout)\n",
    "        self.stop()\n",
    "\n",
    "# Example usage:\n",
    "if __name__ == \"__main__\":\n",
    "    multicam = thread_cam()\n",
    "    multicam.start()\n",
    "    multicam.wait_for_timeout(10) \n",
    "    print('time used to capture all the frames', multicam.end_time - multicam.start_time)\n",
    "    print('number of frames in that time', multicam.thorlabs_cam.frame_count)\n"
   ]
  },
  {
   "cell_type": "code",
   "execution_count": null,
   "id": "a6e291b7",
   "metadata": {},
   "outputs": [],
   "source": []
  },
  {
   "cell_type": "code",
   "execution_count": null,
   "id": "049112f4",
   "metadata": {},
   "outputs": [],
   "source": []
  }
 ],
 "metadata": {
  "kernelspec": {
   "display_name": "Python 3 (ipykernel)",
   "language": "python",
   "name": "python3"
  },
  "language_info": {
   "codemirror_mode": {
    "name": "ipython",
    "version": 3
   },
   "file_extension": ".py",
   "mimetype": "text/x-python",
   "name": "python",
   "nbconvert_exporter": "python",
   "pygments_lexer": "ipython3",
   "version": "3.8.16"
  }
 },
 "nbformat": 4,
 "nbformat_minor": 5
}
