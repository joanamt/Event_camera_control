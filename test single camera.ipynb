{
 "cells": [
  {
   "cell_type": "code",
   "execution_count": 1,
   "id": "e7a2b36a",
   "metadata": {},
   "outputs": [],
   "source": [
    "import cv2\n",
    "import threading\n",
    "import numpy as np\n",
    "from metavision_core.event_io import EventsIterator\n",
    "from metavision_sdk_core import PeriodicFrameGenerationAlgorithm\n",
    "from metavision_sdk_ui import EventLoop, BaseWindow, Window, UIAction, UIKeyEvent\n",
    "from pylablib.devices import uc480  # uc480 DLLs needed for Thorlabs camera\n",
    "import matplotlib.pyplot as plt\n",
    "import argparse\n",
    "import h5py\n",
    "import time"
   ]
  },
  {
   "cell_type": "code",
   "execution_count": 2,
   "id": "fe125633",
   "metadata": {},
   "outputs": [],
   "source": [
    "import os\n",
    "import threading\n",
    "import time\n",
    "\n",
    "class ThorlabsCam:\n",
    "    def __init__(self):\n",
    "        notebook_dir = os.getcwd()\n",
    "        self.save_folder = os.path.join(notebook_dir, \"frames\")\n",
    "        if not os.path.exists(self.save_folder):\n",
    "            os.makedirs(self.save_folder)\n",
    "\n",
    "        self.cam = uc480.UC480Camera()\n",
    "        self.is_acquiring = False\n",
    "        self.frame_count = 0\n",
    "        self.save_thread = None\n",
    "        \n",
    "    def start_saving(self):\n",
    "        self.save_thread = threading.Thread(target=self.save_frames)\n",
    "        self.save_thread.start()\n",
    "        print(\"Thorlabs frame saving started\")\n",
    "\n",
    "    def start_acquisition(self):\n",
    "        self.is_acquiring = True\n",
    "        self.cam.start_acquisition()\n",
    "        print(\"Thorlabs acquisition started\")\n",
    "\n",
    "    def stop_acquisition(self):\n",
    "        self.is_acquiring = False\n",
    "        self.cam.stop_acquisition()\n",
    "        self.cam.close()\n",
    "        print(\"Thorlabs acquisition stopped\")\n",
    "\n",
    "    def save_frames(self):\n",
    "        self.frames_list=[]\n",
    "        while self.is_acquiring:\n",
    "            frame = self.cam.snap()\n",
    "            if frame is not None:\n",
    "                self.frames_list.append(frame)\n",
    "                #filename = os.path.join(self.save_folder, f\"frame_{self.frame_count}.png\")\n",
    "                #cv2.imwrite(filename, frame)\n",
    "                self.frame_count += 1\n",
    "                #time.sleep(1 / 15)  # Delay to achieve 15 FPS\n",
    "            else:\n",
    "                print(\"Failed to capture frame\")\n",
    "\n",
    "    def stop_saving(self):\n",
    "        self.is_acquiring = False\n",
    "        if self.save_thread:\n",
    "            self.save_thread.join()\n",
    "        print(\"Thorlabs frame saving stopped\")"
   ]
  },
  {
   "cell_type": "code",
   "execution_count": 3,
   "id": "d3502a56",
   "metadata": {},
   "outputs": [
    {
     "name": "stdout",
     "output_type": "stream",
     "text": [
      "Thorlabs frame saving started\n"
     ]
    },
    {
     "name": "stderr",
     "output_type": "stream",
     "text": [
      "Exception in thread Thread-5:\n",
      "Traceback (most recent call last):\n",
      "  File \"C:\\Users\\INESC\\anaconda3\\envs\\python38\\lib\\threading.py\", line 932, in _bootstrap_inner\n",
      "    self.run()\n",
      "  File \"C:\\Users\\INESC\\anaconda3\\envs\\python38\\lib\\threading.py\", line 870, in run\n",
      "    self._target(*self._args, **self._kwargs)\n",
      "  File \"C:\\Users\\INESC\\AppData\\Local\\Temp\\ipykernel_1700\\3577733818.py\", line 24, in start_acquisition\n",
      "  File \"C:\\Users\\INESC\\anaconda3\\envs\\python38\\lib\\site-packages\\pylablib\\devices\\uc480\\uc480.py\", line 401, in start_acquisition\n",
      "    self.lib.is_CaptureVideo(self.hcam,uc480_defs.LIVEFREEZE.IS_DONT_WAIT,check=True)\n",
      "  File \"C:\\Users\\INESC\\anaconda3\\envs\\python38\\lib\\site-packages\\pylablib\\devices\\uc480\\uc480_lib.py\", line 434, in wrapped_func\n",
      "    res_errcheck(result,func,args)\n",
      "  File \"C:\\Users\\INESC\\anaconda3\\envs\\python38\\lib\\site-packages\\pylablib\\devices\\uc480\\uc480_lib.py\", line 35, in errchecker\n",
      "    raise uc480LibError(func.__name__,result)\n",
      "pylablib.devices.uc480.uc480_lib.uc480LibError: function 'is_CaptureVideo' raised error 140(IS_CAPTURE_RUNNING)\n",
      "Exception in thread Thread-6:\n",
      "Traceback (most recent call last):\n",
      "  File \"C:\\Users\\INESC\\anaconda3\\envs\\python38\\lib\\threading.py\", line 932, in _bootstrap_inner\n",
      "    self.run()\n",
      "  File \"C:\\Users\\INESC\\anaconda3\\envs\\python38\\lib\\threading.py\", line 870, in run\n",
      "    self._target(*self._args, **self._kwargs)\n",
      "  File \"C:\\Users\\INESC\\AppData\\Local\\Temp\\ipykernel_1700\\3577733818.py\", line 36, in save_frames\n",
      "  File \"C:\\Users\\INESC\\anaconda3\\envs\\python38\\lib\\site-packages\\pylablib\\devices\\interface\\camera.py\", line 680, in snap\n",
      "    res=self.grab(frame_timeout=timeout,return_info=return_info)\n",
      "  File \"C:\\Users\\INESC\\anaconda3\\envs\\python38\\lib\\site-packages\\pylablib\\devices\\interface\\camera.py\", line 672, in grab\n",
      "    frames+=new_frames\n",
      "TypeError: 'NoneType' object is not iterable\n"
     ]
    },
    {
     "name": "stdout",
     "output_type": "stream",
     "text": [
      "Thorlabs acquisition stopped\n",
      "Thorlabs frame saving stopped\n",
      "time used to capture all the frames 20.133084774017334\n",
      "number of frames in that time 214\n"
     ]
    }
   ],
   "source": [
    "class thread_cam:\n",
    "    def __init__(self):\n",
    "        self.thorlabs_cam = ThorlabsCam()\n",
    "        self.thorlabs_thread = None\n",
    "\n",
    "    def start(self):\n",
    "        self.thorlabs_thread = threading.Thread(target=self.thorlabs_cam.start_acquisition)\n",
    "        self.thorlabs_thread.start()\n",
    "        self.thorlabs_cam.start_saving()\n",
    "        self.start_time = time.time()  # Start saving frames from Thorlabs camera\n",
    "\n",
    "    def stop(self):   \n",
    "        self.thorlabs_cam.stop_acquisition()\n",
    "        self.end_time = time.time()\n",
    "        self.thorlabs_cam.stop_saving()\n",
    "\n",
    "    def wait_for_timeout(self, timeout):\n",
    "        time.sleep(timeout)\n",
    "        self.stop()\n",
    "\n",
    "# Example usage:\n",
    "if __name__ == \"__main__\":\n",
    "    multicam = thread_cam()\n",
    "    multicam.start()\n",
    "    multicam.wait_for_timeout(20) \n",
    "    print('time used to capture all the frames', multicam.end_time - multicam.start_time)\n",
    "    print('number of frames in that time', multicam.thorlabs_cam.frame_count)\n"
   ]
  },
  {
   "cell_type": "code",
   "execution_count": 4,
   "id": "27d06d1e",
   "metadata": {},
   "outputs": [
    {
     "data": {
      "text/plain": [
       "10.1"
      ]
     },
     "execution_count": 4,
     "metadata": {},
     "output_type": "execute_result"
    }
   ],
   "source": [
    "101/10"
   ]
  },
  {
   "cell_type": "markdown",
   "id": "85fff3aa",
   "metadata": {},
   "source": [
    "### live video attempt"
   ]
  },
  {
   "cell_type": "code",
   "execution_count": 5,
   "id": "ad9b05df",
   "metadata": {},
   "outputs": [
    {
     "ename": "AttributeError",
     "evalue": "'UC480Camera' object has no attribute 'start_live_video'",
     "output_type": "error",
     "traceback": [
      "\u001b[1;31m---------------------------------------------------------------------------\u001b[0m",
      "\u001b[1;31mAttributeError\u001b[0m                            Traceback (most recent call last)",
      "\u001b[1;32m~\\AppData\\Local\\Temp\\ipykernel_1700\\2454364997.py\u001b[0m in \u001b[0;36m<module>\u001b[1;34m\u001b[0m\n\u001b[0;32m      3\u001b[0m \u001b[1;33m\u001b[0m\u001b[0m\n\u001b[0;32m      4\u001b[0m \u001b[1;31m# params\u001b[0m\u001b[1;33m\u001b[0m\u001b[1;33m\u001b[0m\u001b[1;33m\u001b[0m\u001b[0m\n\u001b[1;32m----> 5\u001b[1;33m \u001b[0mcam\u001b[0m\u001b[1;33m.\u001b[0m\u001b[0mstart_live_video\u001b[0m\u001b[1;33m(\u001b[0m\u001b[0mframerate\u001b[0m \u001b[1;33m=\u001b[0m \u001b[1;34m\"10Hz\"\u001b[0m\u001b[1;33m)\u001b[0m\u001b[1;33m\u001b[0m\u001b[1;33m\u001b[0m\u001b[0m\n\u001b[0m\u001b[0;32m      6\u001b[0m \u001b[1;33m\u001b[0m\u001b[0m\n\u001b[0;32m      7\u001b[0m \u001b[1;32mwhile\u001b[0m \u001b[0mcam\u001b[0m\u001b[1;33m.\u001b[0m\u001b[0mis_open\u001b[0m\u001b[1;33m:\u001b[0m\u001b[1;33m\u001b[0m\u001b[1;33m\u001b[0m\u001b[0m\n",
      "\u001b[1;31mAttributeError\u001b[0m: 'UC480Camera' object has no attribute 'start_live_video'"
     ]
    }
   ],
   "source": [
    "# init camera\n",
    "cam = uc480.UC480Camera()\n",
    "\n",
    "# params\n",
    "cam.start_live_video(framerate = \"10Hz\")\n",
    "\n",
    "while cam.is_open:\n",
    "     \n",
    "     frame = cam.grab_image(timeout='100s', copy=True, exposure_time='10ms')\n",
    "     \n",
    "     frame1 = np.stack((frame,) * 3,-1) #make frame as 1 channel image\n",
    "     frame1 = frame1.astype(np.uint8)\n",
    "\n",
    "     gray = cv2.cvtColor(frame1, cv2.COLOR_BGR2GRAY)\n",
    "\n",
    "     #now u can apply opencv features\n",
    "\n",
    "     cv2.imshow('Camera', gray)\n",
    "     \n",
    "     if cv2.waitKey(30) & 0xFF == ord('q'):\n",
    "        break\n",
    "\n",
    "cam.close()\n",
    "cv2.destroyAllWindows()"
   ]
  },
  {
   "cell_type": "markdown",
   "id": "a83954f0",
   "metadata": {},
   "source": [
    "Não consigo abrir live video "
   ]
  },
  {
   "cell_type": "code",
   "execution_count": null,
   "id": "cd3f8663",
   "metadata": {},
   "outputs": [],
   "source": []
  }
 ],
 "metadata": {
  "kernelspec": {
   "display_name": "Python 3 (ipykernel)",
   "language": "python",
   "name": "python3"
  },
  "language_info": {
   "codemirror_mode": {
    "name": "ipython",
    "version": 3
   },
   "file_extension": ".py",
   "mimetype": "text/x-python",
   "name": "python",
   "nbconvert_exporter": "python",
   "pygments_lexer": "ipython3",
   "version": "3.8.16"
  }
 },
 "nbformat": 4,
 "nbformat_minor": 5
}
